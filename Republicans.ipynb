{
 "cells": [
  {
   "cell_type": "code",
   "execution_count": 24,
   "metadata": {},
   "outputs": [
    {
     "name": "stdout",
     "output_type": "stream",
     "text": [
      "[nltk_data] Downloading package stopwords to /Users/and/nltk_data...\n",
      "[nltk_data]   Package stopwords is already up-to-date!\n"
     ]
    }
   ],
   "source": [
    "%run methods.ipynb"
   ]
  },
  {
   "cell_type": "code",
   "execution_count": 25,
   "metadata": {},
   "outputs": [],
   "source": [
    "#Republicanos Donald Trump\n",
    "list_of_files =['../FicherosJSON//P2REPUBLICANS_10000.json'\n",
    "               ]\n",
    "#Un unico dataframe\n",
    "df = join_all_files_in_one_df(list_of_files)"
   ]
  },
  {
   "cell_type": "code",
   "execution_count": 26,
   "metadata": {},
   "outputs": [],
   "source": [
    "dataFrames = df[1] "
   ]
  },
  {
   "cell_type": "code",
   "execution_count": 27,
   "metadata": {},
   "outputs": [],
   "source": [
    "#DataFrame y numero de tweets deseados 0 para todos los tweets\n",
    "data = clean_data_from_json(dataFrames[0], 0)"
   ]
  },
  {
   "cell_type": "code",
   "execution_count": 28,
   "metadata": {},
   "outputs": [],
   "source": [
    " # return [cleanData, df, numeros_list, popularidad_list, len(numero)]\n",
    "dataClearData = data[0]\n",
    "dataDf = data[1]"
   ]
  },
  {
   "cell_type": "code",
   "execution_count": 29,
   "metadata": {},
   "outputs": [
    {
     "name": "stdout",
     "output_type": "stream",
     "text": [
      "10000\n"
     ]
    }
   ],
   "source": [
    "numeros_list = data[2]\n",
    "popularidad_list = data[3]\n",
    "numero = data[4]\n",
    "print(numero)"
   ]
  },
  {
   "cell_type": "code",
   "execution_count": 30,
   "metadata": {},
   "outputs": [
    {
     "data": {
      "image/png": "[encoded data removed]",
      "text/plain": [
       "<Figure size 432x288 with 1 Axes>"
      ]
     },
     "metadata": {
      "needs_background": "light"
     },
     "output_type": "display_data"
    }
   ],
   "source": [
    "#Dibujar grafica Sentimental\n",
    "GraficarDatos(numeros_list, popularidad_list, numero, \"Sentimientos sobre los tuits: Republicans\")\n"
   ]
  },
  {
   "cell_type": "code",
   "execution_count": 31,
   "metadata": {},
   "outputs": [],
   "source": [
    "#REALIZAR PARA TODOS\n",
    "#CREA UN GRAFO DIRIGIDO\n",
    "#\n",
    "graph = relaciones_network(dataDf)\n",
    "\n",
    "numNodes = len(graph.node())\n",
    "numEdges = len(graph.edges())\n",
    "#list(nx.chain_decomposition(graph))"
   ]
  },
  {
   "cell_type": "code",
   "execution_count": 32,
   "metadata": {},
   "outputs": [],
   "source": [
    "sentimentGraphNode = updateSentimentNode(graph)\n",
    "#print(sentimentGraphNode.node(data=True))"
   ]
  },
  {
   "cell_type": "code",
   "execution_count": 33,
   "metadata": {},
   "outputs": [],
   "source": [
    "nx.write_graphml(sentimentGraphNode, \"theRepublican.graphml\")"
   ]
  },
  {
   "cell_type": "code",
   "execution_count": 12,
   "metadata": {},
   "outputs": [
    {
     "name": "stdout",
     "output_type": "stream",
     "text": [
      "[(0, {}), (1, {}), (2, {})]\n",
      "{0: array([-1.        ,  0.80930733]), 1: array([ 0.00084447, -0.00068317]), 2: array([ 0.99915553, -0.80862416])}\n"
     ]
    }
   ],
   "source": [
    "#PRUEBAS con write_graphml\n",
    "G = nx.path_graph(3)\n",
    "print(G.nodes(data=True))\n",
    "\n",
    "pos = nx.spring_layout(G)\n",
    "print(pos)\n",
    "\n",
    "    \n",
    "nx.write_graphml(G, \"g.graphml\")"
   ]
  },
  {
   "cell_type": "code",
   "execution_count": null,
   "metadata": {},
   "outputs": [],
   "source": []
  },
  {
   "cell_type": "code",
   "execution_count": 16,
   "metadata": {},
   "outputs": [
    {
     "name": "stdout",
     "output_type": "stream",
     "text": [
      "20746\n",
      "47985\n"
     ]
    }
   ],
   "source": [
    "#Republicans\n",
    "print(numNodes)\n",
    "print(numEdges)"
   ]
  },
  {
   "cell_type": "code",
   "execution_count": 15,
   "metadata": {},
   "outputs": [
    {
     "name": "stdout",
     "output_type": "stream",
     "text": [
      "-0.2841030781317649\n",
      "\n",
      "\n"
     ]
    }
   ],
   "source": [
    "#Republicans ASSORTATIVITY\n",
    "r=nx.degree_assortativity_coefficient(graph)\n",
    "\n",
    "d=nx.average_neighbor_degree(graph, source='in', target='in')\n",
    "\n",
    "print(r)\n",
    "print ('\\n')"
   ]
  },
  {
   "cell_type": "code",
   "execution_count": 1,
   "metadata": {
    "scrolled": false
   },
   "outputs": [
    {
     "ename": "NameError",
     "evalue": "name 'nx' is not defined",
     "output_type": "error",
     "traceback": [
      "\u001b[0;31m---------------------------------------------------------------------------\u001b[0m",
      "\u001b[0;31mNameError\u001b[0m                                 Traceback (most recent call last)",
      "\u001b[0;32m<ipython-input-1-de9f95150f94>\u001b[0m in \u001b[0;36m<module>\u001b[0;34m\u001b[0m\n\u001b[1;32m      1\u001b[0m \u001b[0;31m#Degree GLOBAL\u001b[0m\u001b[0;34m\u001b[0m\u001b[0;34m\u001b[0m\u001b[0m\n\u001b[0;32m----> 2\u001b[0;31m \u001b[0mdegreeEachNode\u001b[0m\u001b[0;34m=\u001b[0m\u001b[0mnx\u001b[0m\u001b[0;34m.\u001b[0m\u001b[0mdegree\u001b[0m\u001b[0;34m(\u001b[0m\u001b[0mgraph\u001b[0m\u001b[0;34m)\u001b[0m\u001b[0;34m\u001b[0m\u001b[0m\n\u001b[0m\u001b[1;32m      3\u001b[0m \u001b[0mx\u001b[0m \u001b[0;34m=\u001b[0m \u001b[0;34m[\u001b[0m\u001b[0;34m]\u001b[0m\u001b[0;34m\u001b[0m\u001b[0m\n\u001b[1;32m      4\u001b[0m \u001b[0;32mfor\u001b[0m \u001b[0mlista\u001b[0m\u001b[0;34m,\u001b[0m \u001b[0mlistb\u001b[0m \u001b[0;32min\u001b[0m \u001b[0mdegreeEachNode\u001b[0m\u001b[0;34m:\u001b[0m\u001b[0;34m\u001b[0m\u001b[0m\n\u001b[1;32m      5\u001b[0m     \u001b[0mx\u001b[0m\u001b[0;34m.\u001b[0m\u001b[0mappend\u001b[0m\u001b[0;34m(\u001b[0m\u001b[0mlistb\u001b[0m\u001b[0;34m)\u001b[0m\u001b[0;34m\u001b[0m\u001b[0m\n",
      "\u001b[0;31mNameError\u001b[0m: name 'nx' is not defined"
     ]
    }
   ],
   "source": [
    "#Degree GLOBAL\n",
    "degreeEachNode=nx.degree(graph)\n",
    "x = []\n",
    "for lista, listb in degreeEachNode:\n",
    "    x.append(listb)\n",
    "    \n",
    "#IN-DEGREE\n",
    "degreeEachNode = nx.in_degree_centrality(graph)\n",
    "x = degreeEachNode.values()\n",
    "\n",
    "y = d.values()\n",
    "plt.loglog(x,y,'.')\n",
    "plt.xlabel(\"Grado centralizado de entrada\")\n",
    "plt.show()\n",
    "\n",
    "#OUT-DEGREE\n",
    "degreeEachNode = nx.out_degree_centrality(graph)\n",
    "\n",
    "x = degreeEachNode.values()\n",
    "y = d.values()\n",
    "\n",
    "plt.loglog(x,y,'.')\n",
    "plt.xlabel(\"Grado centralizado de salida\")\n",
    "plt.show()\n",
    "\n",
    "\n"
   ]
  },
  {
   "cell_type": "code",
   "execution_count": null,
   "metadata": {
    "scrolled": true
   },
   "outputs": [],
   "source": [
    "bb = nx.edge_betweenness_centrality(graph, normalized=False)\n",
    "nx.set_edge_attributes(graph, bb, 'betweenness')\n"
   ]
  },
  {
   "cell_type": "code",
   "execution_count": null,
   "metadata": {},
   "outputs": [],
   "source": [
    "edges,weights = zip(*nx.get_edge_attributes(graph,'betweenness').items())\n",
    "pos = nx.spring_layout(graph)\n",
    "nx.draw(graph, pos, node_color='b', node_size=10 ,edgelist=edges, edge_color=weights, width=2.0, edge_cmap=plt.cm.RdYlGn, with_labels = False)\n",
    "#nx.write_graphml(graph, \"betweenness.graphml\", prettyprint=True)"
   ]
  },
  {
   "cell_type": "code",
   "execution_count": null,
   "metadata": {},
   "outputs": [],
   "source": [
    "#Republicans DENSITY\n",
    "nx.density(graph)"
   ]
  },
  {
   "cell_type": "code",
   "execution_count": null,
   "metadata": {},
   "outputs": [],
   "source": [
    "\n"
   ]
  },
  {
   "cell_type": "code",
   "execution_count": null,
   "metadata": {},
   "outputs": [],
   "source": []
  },
  {
   "cell_type": "code",
   "execution_count": null,
   "metadata": {},
   "outputs": [],
   "source": []
  },
  {
   "cell_type": "code",
   "execution_count": null,
   "metadata": {},
   "outputs": [],
   "source": []
  },
  {
   "cell_type": "code",
   "execution_count": null,
   "metadata": {},
   "outputs": [],
   "source": []
  },
  {
   "cell_type": "code",
   "execution_count": null,
   "metadata": {},
   "outputs": [],
   "source": [
    "graph.remove_edges_from(nx.selfloop_edges(graph))\n",
    "graph = nx.k_core(graph,k=5)\n",
    "\n",
    "graph = graph.to_undirected()\n",
    "spring_pos = nx.spring_layout(graph)\n",
    "edges,weights = zip(*nx.get_edge_attributes(graph,'sentiment').items())"
   ]
  },
  {
   "cell_type": "code",
   "execution_count": null,
   "metadata": {},
   "outputs": [],
   "source": [
    "for node,(x,y) in spring_pos.items():\n",
    "    graph.node[node]['x'] = float(x)\n",
    "    graph.node[node]['y'] = float(y)\n",
    "    "
   ]
  },
  {
   "cell_type": "code",
   "execution_count": null,
   "metadata": {},
   "outputs": [],
   "source": []
  },
  {
   "cell_type": "code",
   "execution_count": null,
   "metadata": {},
   "outputs": [],
   "source": [
    "\n",
    "#pos = nx.spring_layout(graph)\n",
    "#plt.axis(\"off\")\n",
    "plt.figure(figsize=(30,30))\n",
    "spring_pos = nx.spring_layout(graph)\n",
    "size_node = [val for (node, val) in graph.degree()]\n",
    "#nx.draw(graph, pos, node_color=sentimentNode, node_size=500 ,edgelist=edges, edge_color='b', width=2.0, edge_cmap=plt.cm.RdYlGn, with_labels = True)\n",
    "nx.draw_networkx(graph, pos = spring_pos, cmap = plt.get_cmap(\"jet\"), node_color ='r', node_size = size_node, edge_color=weights, edgelist=edges, with_labels = True)\n",
    "#plt.savefig(\"graphRepublicsEnlaces.png\", dpi=1000)\n",
    "nx.write_graphml(graph, \"semtimentRepublicans.graphml\", prettyprint=True)\n"
   ]
  },
  {
   "cell_type": "code",
   "execution_count": null,
   "metadata": {},
   "outputs": [],
   "source": []
  },
  {
   "cell_type": "code",
   "execution_count": null,
   "metadata": {},
   "outputs": [],
   "source": []
  },
  {
   "cell_type": "code",
   "execution_count": null,
   "metadata": {},
   "outputs": [],
   "source": []
  },
  {
   "cell_type": "code",
   "execution_count": null,
   "metadata": {},
   "outputs": [],
   "source": []
  },
  {
   "cell_type": "code",
   "execution_count": null,
   "metadata": {},
   "outputs": [],
   "source": []
  },
  {
   "cell_type": "code",
   "execution_count": null,
   "metadata": {},
   "outputs": [],
   "source": []
  },
  {
   "cell_type": "code",
   "execution_count": null,
   "metadata": {},
   "outputs": [],
   "source": [
    "#Comunidades \n",
    "graph = graph.to_undirected()\n",
    "c = list(greedy_modularity_communities(graph))"
   ]
  },
  {
   "cell_type": "code",
   "execution_count": null,
   "metadata": {},
   "outputs": [],
   "source": [
    "cadaComunidad = []\n",
    "numeroDeComunidades = 0\n",
    "listaDeComunidades = []\n",
    "dataCadaComunLda=[]\n",
    "for comunity in c:\n",
    "    dataParaLDA = []\n",
    "    sentComunity = [] \n",
    "    laComidad = comunity\n",
    "    for namePerson in laComidad:\n",
    "        row = df.loc[df['screen_name'] == namePerson]\n",
    "        tuitLimpio = tweet_clean(row['text'])\n",
    "        sentComunity.append(sentimentalAnalis(tuitLimpio))\n",
    "        dataParaLDA.append(tuitLimpio)\n",
    "    dataCadaComunLda.append(dataParaLDA)\n",
    "    numeroDeComunidades +=1\n",
    "    listaDeComunidades.append(numeroDeComunidades)\n",
    "    cadaComunidad.append(sum(sentComunity)/len(sentComunity))\n",
    "    \n",
    "numeroDeComunidades = len(cadaComunidad)\n",
    "GraficarDatos(listaDeComunidades, cadaComunidad, numeroDeComunidades, \"Sentimientos sobre las comunidades en Republics\")\n",
    "    \n",
    "        "
   ]
  },
  {
   "cell_type": "code",
   "execution_count": null,
   "metadata": {},
   "outputs": [],
   "source": [
    "len(dataCadaComunLda)"
   ]
  },
  {
   "cell_type": "code",
   "execution_count": null,
   "metadata": {},
   "outputs": [],
   "source": []
  },
  {
   "cell_type": "code",
   "execution_count": null,
   "metadata": {},
   "outputs": [],
   "source": [
    "resultData = dict()\n",
    "varCont = 0\n",
    "for eachdata in dataCadaComunLda:\n",
    "    resultData[varCont] = ldaMethod(eachdata, 15)\n",
    "    varCont +=1\n",
    "    \n"
   ]
  },
  {
   "cell_type": "code",
   "execution_count": null,
   "metadata": {},
   "outputs": [],
   "source": []
  },
  {
   "cell_type": "code",
   "execution_count": null,
   "metadata": {},
   "outputs": [],
   "source": []
  }
 ],
 "metadata": {
  "kernelspec": {
   "display_name": "Python 3",
   "language": "python",
   "name": "python3"
  },
  "language_info": {
   "codemirror_mode": {
    "name": "ipython",
    "version": 3
   },
   "file_extension": ".py",
   "mimetype": "text/x-python",
   "name": "python",
   "nbconvert_exporter": "python",
   "pygments_lexer": "ipython3",
   "version": "3.6.6"
  }
 },
 "nbformat": 4,
 "nbformat_minor": 2
}
