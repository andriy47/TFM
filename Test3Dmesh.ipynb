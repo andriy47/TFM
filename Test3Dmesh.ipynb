{
 "cells": [
  {
   "cell_type": "code",
   "execution_count": 33,
   "metadata": {},
   "outputs": [
    {
     "name": "stderr",
     "output_type": "stream",
     "text": [
      "[nltk_data] Downloading package stopwords to\n",
      "[nltk_data]     C:\\Users\\andri\\AppData\\Roaming\\nltk_data...\n",
      "[nltk_data]   Package stopwords is already up-to-date!\n"
     ]
    }
   ],
   "source": [
    "%run methods.ipynb"
   ]
  },
  {
   "cell_type": "code",
   "execution_count": 34,
   "metadata": {},
   "outputs": [],
   "source": [
    "import plotly \n",
    "plotly.tools.set_credentials_file(username='andriy93', api_key='j4UgdivFmCTlwkO1bYWS')\n",
    "\n",
    "import plotly.plotly as py \n",
    "import plotly.graph_objs as go\n",
    "import numpy as np\n"
   ]
  },
  {
   "cell_type": "code",
   "execution_count": 35,
   "metadata": {},
   "outputs": [],
   "source": [
    "#Republicanos Donald Trump\n",
    "list_of_files =['../FicherosJSON//P2REPUBLICANS_10000.json']\n",
    "#Un unico dataframe\n",
    "df = join_all_files_in_one_df(list_of_files)\n",
    "dataFrames = df[1] "
   ]
  },
  {
   "cell_type": "code",
   "execution_count": 36,
   "metadata": {},
   "outputs": [],
   "source": [
    "#DataFrame y numero de tweets deseados 0 para todos los tweets\n",
    "dataDem = clean_data_from_json(dataFrames[0], 0)"
   ]
  },
  {
   "cell_type": "code",
   "execution_count": 37,
   "metadata": {},
   "outputs": [],
   "source": [
    "#Republicanos Donald Trump\n",
    "list_of_files =['../FicherosJSON//P1TheDemocrats_10000.json']\n",
    "#Un unico dataframe\n",
    "df = join_all_files_in_one_df(list_of_files)\n",
    "dataFramesR = df[1] "
   ]
  },
  {
   "cell_type": "code",
   "execution_count": 38,
   "metadata": {},
   "outputs": [],
   "source": [
    "#DataFrame y numero de tweets deseados 0 para todos los tweets\n",
    "dataRep = clean_data_from_json(dataFramesR[0], 0)"
   ]
  },
  {
   "cell_type": "code",
   "execution_count": 39,
   "metadata": {},
   "outputs": [],
   "source": [
    "dataRepNeg = [-x for x in dataRep[6]]"
   ]
  },
  {
   "cell_type": "code",
   "execution_count": 54,
   "metadata": {},
   "outputs": [],
   "source": [
    "z = np.ones((21,21))*0.00001\n",
    "for sx, sy in zip(dataDem[5],dataDem[6]):\n",
    "    x = int(sx*10+10)\n",
    "    y = int(sy*10+10)\n",
    "    z[x,y] +=1\n",
    "for sx, sy in zip(dataRep[5],dataRepNeg):\n",
    "    x = int(sx*10+10)\n",
    "    y = int(sy*10+10)\n",
    "    z[x,y] +=1\n",
    "z[10,10]=0.00001\n"
   ]
  },
  {
   "cell_type": "code",
   "execution_count": 42,
   "metadata": {},
   "outputs": [
    {
     "data": {
      "text/html": [
       "<iframe id=\"igraph\" scrolling=\"no\" style=\"border:none;\" seamless=\"seamless\" src=\"https://plot.ly/~andriy93/70.embed\" height=\"525px\" width=\"100%\"></iframe>"
      ],
      "text/plain": [
       "<plotly.tools.PlotlyDisplay object>"
      ]
     },
     "execution_count": 42,
     "metadata": {},
     "output_type": "execute_result"
    }
   ],
   "source": [
    "gx, gy = np.meshgrid(np.arange(0, 21, 1),np.arange(0, 21, 1))\n",
    "\n",
    "z = np.real(np.log((z.transpose())))\n",
    "\n",
    "trace = go.Mesh3d(x=gx,y=gy,z=z,color='#00FFFF',opacity=0.50)\n",
    "py.iplot([trace])"
   ]
  },
  {
   "cell_type": "code",
   "execution_count": 57,
   "metadata": {},
   "outputs": [
    {
     "data": {
      "text/html": [
       "<iframe id=\"igraph\" scrolling=\"no\" style=\"border:none;\" seamless=\"seamless\" src=\"https://plot.ly/~andriy93/72.embed\" height=\"600px\" width=\"800px\"></iframe>"
      ],
      "text/plain": [
       "<plotly.tools.PlotlyDisplay object>"
      ]
     },
     "execution_count": 57,
     "metadata": {},
     "output_type": "execute_result"
    }
   ],
   "source": [
    "z = np.ones((21,21))*0.00001\n",
    "for sx, sy in zip(dataDem[5],dataDem[6]):\n",
    "    x = int(sx*10+10)\n",
    "    y = int(sy*10+10)\n",
    "    z[x,y] +=1\n",
    "for sx, sy in zip(dataRep[5],dataRepNeg):\n",
    "    x = int(sx*10+10)\n",
    "    y = int(sy*10+10)\n",
    "    z[x,y] +=1\n",
    "z[10,10]=0.00001\n",
    "\n",
    "z = np.real(np.log((z.transpose())))\n",
    "\n",
    "\n",
    "data = [\n",
    "    go.Surface(\n",
    "        z=z,\n",
    "        contours=go.surface.Contours(\n",
    "            z=go.surface.contours.Z(\n",
    "              show=True,\n",
    "              usecolormap=True,\n",
    "              highlightcolor=\"#42f462\",\n",
    "              project=dict(z=True)\n",
    "            )\n",
    "        )\n",
    "    )\n",
    "]\n",
    "layout = go.Layout(\n",
    "    title='title',\n",
    "    autosize=False,\n",
    "    scene=dict(camera=dict(eye=dict(x=1.87, y=0.88, z=-0.64))),\n",
    "    width=800,\n",
    "    height=600\n",
    ")\n",
    "fig = go.Figure(data=data, layout=layout)\n",
    "py.iplot(fig, filename='elevations-3d-surface-contours')\n"
   ]
  },
  {
   "cell_type": "code",
   "execution_count": null,
   "metadata": {},
   "outputs": [],
   "source": []
  }
 ],
 "metadata": {
  "kernelspec": {
   "display_name": "Python 3",
   "language": "python",
   "name": "python3"
  },
  "language_info": {
   "codemirror_mode": {
    "name": "ipython",
    "version": 3
   },
   "file_extension": ".py",
   "mimetype": "text/x-python",
   "name": "python",
   "nbconvert_exporter": "python",
   "pygments_lexer": "ipython3",
   "version": "3.7.1"
  }
 },
 "nbformat": 4,
 "nbformat_minor": 2
}
